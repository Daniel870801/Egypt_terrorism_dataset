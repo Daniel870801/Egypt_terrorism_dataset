{
 "cells": [
  {
   "cell_type": "code",
   "execution_count": 38,
   "id": "3e17d435",
   "metadata": {},
   "outputs": [],
   "source": [
    "import pandas as pd\n",
    "import numpy as np\n",
    "import matplotlib.pyplot as plt\n",
    "import seaborn as sns\n",
    "%matplotlib inline"
   ]
  },
  {
   "cell_type": "code",
   "execution_count": 39,
   "id": "17d5a742",
   "metadata": {},
   "outputs": [],
   "source": [
    "data=pd.read_csv('clean_data.csv',index_col='date',parse_dates=True)\n",
    "data.drop(data.iloc[:,0:2],axis=1,inplace=True)"
   ]
  },
  {
   "cell_type": "code",
   "execution_count": 40,
   "id": "fb877041",
   "metadata": {},
   "outputs": [
    {
     "data": {
      "text/html": [
       "<div>\n",
       "<style scoped>\n",
       "    .dataframe tbody tr th:only-of-type {\n",
       "        vertical-align: middle;\n",
       "    }\n",
       "\n",
       "    .dataframe tbody tr th {\n",
       "        vertical-align: top;\n",
       "    }\n",
       "\n",
       "    .dataframe thead th {\n",
       "        text-align: right;\n",
       "    }\n",
       "</style>\n",
       "<table border=\"1\" class=\"dataframe\">\n",
       "  <thead>\n",
       "    <tr style=\"text-align: right;\">\n",
       "      <th></th>\n",
       "      <th>eventid</th>\n",
       "      <th>iyear</th>\n",
       "      <th>imonth</th>\n",
       "      <th>iday</th>\n",
       "      <th>extended</th>\n",
       "      <th>provstate</th>\n",
       "      <th>city</th>\n",
       "      <th>latitude</th>\n",
       "      <th>longitude</th>\n",
       "      <th>specificity</th>\n",
       "      <th>...</th>\n",
       "      <th>weaptype1</th>\n",
       "      <th>weaptype1_txt</th>\n",
       "      <th>nkill</th>\n",
       "      <th>property</th>\n",
       "      <th>ishostkid</th>\n",
       "      <th>dbsource</th>\n",
       "      <th>INT_LOG</th>\n",
       "      <th>INT_IDEO</th>\n",
       "      <th>INT_MISC</th>\n",
       "      <th>INT_ANY</th>\n",
       "    </tr>\n",
       "    <tr>\n",
       "      <th>date</th>\n",
       "      <th></th>\n",
       "      <th></th>\n",
       "      <th></th>\n",
       "      <th></th>\n",
       "      <th></th>\n",
       "      <th></th>\n",
       "      <th></th>\n",
       "      <th></th>\n",
       "      <th></th>\n",
       "      <th></th>\n",
       "      <th></th>\n",
       "      <th></th>\n",
       "      <th></th>\n",
       "      <th></th>\n",
       "      <th></th>\n",
       "      <th></th>\n",
       "      <th></th>\n",
       "      <th></th>\n",
       "      <th></th>\n",
       "      <th></th>\n",
       "      <th></th>\n",
       "    </tr>\n",
       "  </thead>\n",
       "  <tbody>\n",
       "    <tr>\n",
       "      <th>1970-03-14</th>\n",
       "      <td>197003140002</td>\n",
       "      <td>1970</td>\n",
       "      <td>3</td>\n",
       "      <td>14</td>\n",
       "      <td>0</td>\n",
       "      <td>Alexandria</td>\n",
       "      <td>Alexandria</td>\n",
       "      <td>31.198056</td>\n",
       "      <td>29.919167</td>\n",
       "      <td>1.0</td>\n",
       "      <td>...</td>\n",
       "      <td>6</td>\n",
       "      <td>Explosives</td>\n",
       "      <td>0.0</td>\n",
       "      <td>1</td>\n",
       "      <td>0.0</td>\n",
       "      <td>PGIS</td>\n",
       "      <td>-9</td>\n",
       "      <td>-9</td>\n",
       "      <td>0</td>\n",
       "      <td>-9</td>\n",
       "    </tr>\n",
       "    <tr>\n",
       "      <th>1971-11-28</th>\n",
       "      <td>197111280001</td>\n",
       "      <td>1971</td>\n",
       "      <td>11</td>\n",
       "      <td>28</td>\n",
       "      <td>0</td>\n",
       "      <td>Cairo</td>\n",
       "      <td>Cairo</td>\n",
       "      <td>30.084629</td>\n",
       "      <td>31.334314</td>\n",
       "      <td>1.0</td>\n",
       "      <td>...</td>\n",
       "      <td>5</td>\n",
       "      <td>Firearms</td>\n",
       "      <td>1.0</td>\n",
       "      <td>0</td>\n",
       "      <td>0.0</td>\n",
       "      <td>PGIS</td>\n",
       "      <td>1</td>\n",
       "      <td>1</td>\n",
       "      <td>0</td>\n",
       "      <td>1</td>\n",
       "    </tr>\n",
       "    <tr>\n",
       "      <th>1972-02-19</th>\n",
       "      <td>197202190001</td>\n",
       "      <td>1972</td>\n",
       "      <td>2</td>\n",
       "      <td>19</td>\n",
       "      <td>0</td>\n",
       "      <td>Cairo</td>\n",
       "      <td>Cairo</td>\n",
       "      <td>30.084629</td>\n",
       "      <td>31.334314</td>\n",
       "      <td>1.0</td>\n",
       "      <td>...</td>\n",
       "      <td>6</td>\n",
       "      <td>Explosives</td>\n",
       "      <td>0.0</td>\n",
       "      <td>0</td>\n",
       "      <td>1.0</td>\n",
       "      <td>Hijacking DB</td>\n",
       "      <td>0</td>\n",
       "      <td>1</td>\n",
       "      <td>1</td>\n",
       "      <td>1</td>\n",
       "    </tr>\n",
       "    <tr>\n",
       "      <th>1977-12-05</th>\n",
       "      <td>197712050001</td>\n",
       "      <td>1977</td>\n",
       "      <td>12</td>\n",
       "      <td>5</td>\n",
       "      <td>0</td>\n",
       "      <td>Cairo</td>\n",
       "      <td>Cairo</td>\n",
       "      <td>30.084629</td>\n",
       "      <td>31.334314</td>\n",
       "      <td>1.0</td>\n",
       "      <td>...</td>\n",
       "      <td>5</td>\n",
       "      <td>Firearms</td>\n",
       "      <td>1.0</td>\n",
       "      <td>0</td>\n",
       "      <td>0.0</td>\n",
       "      <td>PGIS</td>\n",
       "      <td>-9</td>\n",
       "      <td>-9</td>\n",
       "      <td>1</td>\n",
       "      <td>1</td>\n",
       "    </tr>\n",
       "    <tr>\n",
       "      <th>1978-09-30</th>\n",
       "      <td>197809300002</td>\n",
       "      <td>1978</td>\n",
       "      <td>9</td>\n",
       "      <td>30</td>\n",
       "      <td>0</td>\n",
       "      <td>North Sinai</td>\n",
       "      <td>Yamit</td>\n",
       "      <td>31.275278</td>\n",
       "      <td>34.167778</td>\n",
       "      <td>1.0</td>\n",
       "      <td>...</td>\n",
       "      <td>6</td>\n",
       "      <td>Explosives</td>\n",
       "      <td>0.0</td>\n",
       "      <td>1</td>\n",
       "      <td>0.0</td>\n",
       "      <td>PGIS</td>\n",
       "      <td>1</td>\n",
       "      <td>0</td>\n",
       "      <td>1</td>\n",
       "      <td>1</td>\n",
       "    </tr>\n",
       "  </tbody>\n",
       "</table>\n",
       "<p>5 rows × 40 columns</p>\n",
       "</div>"
      ],
      "text/plain": [
       "                 eventid  iyear  imonth  iday  extended    provstate  \\\n",
       "date                                                                   \n",
       "1970-03-14  197003140002   1970       3    14         0   Alexandria   \n",
       "1971-11-28  197111280001   1971      11    28         0        Cairo   \n",
       "1972-02-19  197202190001   1972       2    19         0        Cairo   \n",
       "1977-12-05  197712050001   1977      12     5         0        Cairo   \n",
       "1978-09-30  197809300002   1978       9    30         0  North Sinai   \n",
       "\n",
       "                  city   latitude  longitude  specificity  ...  weaptype1  \\\n",
       "date                                                       ...              \n",
       "1970-03-14  Alexandria  31.198056  29.919167          1.0  ...          6   \n",
       "1971-11-28       Cairo  30.084629  31.334314          1.0  ...          5   \n",
       "1972-02-19       Cairo  30.084629  31.334314          1.0  ...          6   \n",
       "1977-12-05       Cairo  30.084629  31.334314          1.0  ...          5   \n",
       "1978-09-30       Yamit  31.275278  34.167778          1.0  ...          6   \n",
       "\n",
       "            weaptype1_txt  nkill  property  ishostkid      dbsource  INT_LOG  \\\n",
       "date                                                                           \n",
       "1970-03-14     Explosives    0.0         1        0.0          PGIS       -9   \n",
       "1971-11-28       Firearms    1.0         0        0.0          PGIS        1   \n",
       "1972-02-19     Explosives    0.0         0        1.0  Hijacking DB        0   \n",
       "1977-12-05       Firearms    1.0         0        0.0          PGIS       -9   \n",
       "1978-09-30     Explosives    0.0         1        0.0          PGIS        1   \n",
       "\n",
       "            INT_IDEO  INT_MISC INT_ANY  \n",
       "date                                    \n",
       "1970-03-14        -9         0      -9  \n",
       "1971-11-28         1         0       1  \n",
       "1972-02-19         1         1       1  \n",
       "1977-12-05        -9         1       1  \n",
       "1978-09-30         0         1       1  \n",
       "\n",
       "[5 rows x 40 columns]"
      ]
     },
     "execution_count": 40,
     "metadata": {},
     "output_type": "execute_result"
    }
   ],
   "source": [
    "data.head()"
   ]
  },
  {
   "cell_type": "markdown",
   "id": "542851fe",
   "metadata": {},
   "source": [
    "--"
   ]
  },
  {
   "cell_type": "markdown",
   "id": "b01c82ad",
   "metadata": {},
   "source": [
    "Let's analyse the evolution of terrorism across time.\n"
   ]
  },
  {
   "cell_type": "code",
   "execution_count": 41,
   "id": "e61069de",
   "metadata": {},
   "outputs": [
    {
     "data": {
      "image/png": "[encoded data removed]",
      "text/plain": [
       "<Figure size 720x288 with 1 Axes>"
      ]
     },
     "metadata": {
      "needs_background": "light"
     },
     "output_type": "display_data"
    }
   ],
   "source": [
    "frequency_year=pd.DataFrame(data.iyear.value_counts()).sort_index().rename(mapper={'iyear':'attacks'},axis=1)\n",
    "casualties_year=pd.DataFrame(data[['iyear','nkill']].groupby('iyear').agg('sum'))\n",
    "\n",
    "\n",
    "plt.figure(figsize=(10,4))\n",
    "plt.title('Evolution of Terrorism across the years')\n",
    "plt.plot(frequency_year,label='Number of Attacks')\n",
    "plt.plot(casualties_year,label='Number of Casualties')\n",
    "plt.legend()\n",
    "\n",
    "plt.show()\n"
   ]
  },
  {
   "cell_type": "code",
   "execution_count": 42,
   "id": "dbaf8efa",
   "metadata": {},
   "outputs": [],
   "source": [
    "#We notice that the 1970s were relatively peaceful, and that terrorism began to become a serious threat in the 1990s.\n",
    "#We notice that the 2010s have been the deadliest, which can be attributed to the fall of Mubarak and the rise of the Islamic State\n",
    "#in neighboring Libya and in the Sahel.\n",
    "#Althought the number of attacks started decreasing in the second half of the 2010s, the number of casualties kept increasing\n",
    "#Inconsistant data or deadlier attacks? Let's find out!"
   ]
  },
  {
   "cell_type": "code",
   "execution_count": 43,
   "id": "e0b467d1",
   "metadata": {},
   "outputs": [
    {
     "data": {
      "text/plain": [
       "Index(['eventid', 'iyear', 'imonth', 'iday', 'extended', 'provstate', 'city',\n",
       "       'latitude', 'longitude', 'specificity', 'vicinity', 'crit1', 'crit2',\n",
       "       'crit3', 'doubtterr', 'multiple', 'success', 'suicide', 'attacktype1',\n",
       "       'attacktype1_txt', 'targtype1', 'targtype1_txt', 'targsubtype1',\n",
       "       'targsubtype1_txt', 'target1', 'natlty1', 'natlty1_txt', 'gname',\n",
       "       'guncertain1', 'individual', 'weaptype1', 'weaptype1_txt', 'nkill',\n",
       "       'property', 'ishostkid', 'dbsource', 'INT_LOG', 'INT_IDEO', 'INT_MISC',\n",
       "       'INT_ANY'],\n",
       "      dtype='object')"
      ]
     },
     "execution_count": 43,
     "metadata": {},
     "output_type": "execute_result"
    }
   ],
   "source": [
    "data.columns"
   ]
  },
  {
   "cell_type": "code",
   "execution_count": 44,
   "id": "b3d3c950",
   "metadata": {},
   "outputs": [
    {
     "data": {
      "text/plain": [
       "1.6958855098389982"
      ]
     },
     "execution_count": 44,
     "metadata": {},
     "output_type": "execute_result"
    }
   ],
   "source": [
    "#Let's check the attacks that took place after 2014 and the rise of ISIS\n",
    "data['nkill'].mean()"
   ]
  },
  {
   "cell_type": "code",
   "execution_count": 45,
   "id": "751d22ec",
   "metadata": {},
   "outputs": [
    {
     "data": {
      "text/html": [
       "<div>\n",
       "<style scoped>\n",
       "    .dataframe tbody tr th:only-of-type {\n",
       "        vertical-align: middle;\n",
       "    }\n",
       "\n",
       "    .dataframe tbody tr th {\n",
       "        vertical-align: top;\n",
       "    }\n",
       "\n",
       "    .dataframe thead th {\n",
       "        text-align: right;\n",
       "    }\n",
       "</style>\n",
       "<table border=\"1\" class=\"dataframe\">\n",
       "  <thead>\n",
       "    <tr style=\"text-align: right;\">\n",
       "      <th></th>\n",
       "      <th>nkill</th>\n",
       "      <th>targsubtype1_txt</th>\n",
       "    </tr>\n",
       "    <tr>\n",
       "      <th>date</th>\n",
       "      <th></th>\n",
       "      <th></th>\n",
       "    </tr>\n",
       "  </thead>\n",
       "  <tbody>\n",
       "    <tr>\n",
       "      <th>2017-11-24</th>\n",
       "      <td>311.0</td>\n",
       "      <td>Place of Worship</td>\n",
       "    </tr>\n",
       "    <tr>\n",
       "      <th>2015-10-31</th>\n",
       "      <td>224.0</td>\n",
       "      <td>Aircraft (not at an airport)</td>\n",
       "    </tr>\n",
       "    <tr>\n",
       "      <th>2017-07-07</th>\n",
       "      <td>65.0</td>\n",
       "      <td>Military Barracks/Base/Headquarters/Checkpost</td>\n",
       "    </tr>\n",
       "    <tr>\n",
       "      <th>2014-10-24</th>\n",
       "      <td>34.0</td>\n",
       "      <td>Military Checkpoint</td>\n",
       "    </tr>\n",
       "    <tr>\n",
       "      <th>2016-01-14</th>\n",
       "      <td>34.0</td>\n",
       "      <td>Military Checkpoint</td>\n",
       "    </tr>\n",
       "    <tr>\n",
       "      <th>...</th>\n",
       "      <td>...</td>\n",
       "      <td>...</td>\n",
       "    </tr>\n",
       "    <tr>\n",
       "      <th>2015-04-14</th>\n",
       "      <td>0.0</td>\n",
       "      <td>Police Building (headquarters, station, school)</td>\n",
       "    </tr>\n",
       "    <tr>\n",
       "      <th>2015-04-08</th>\n",
       "      <td>0.0</td>\n",
       "      <td>Electricity</td>\n",
       "    </tr>\n",
       "    <tr>\n",
       "      <th>2015-04-16</th>\n",
       "      <td>0.0</td>\n",
       "      <td>Military Transportation/Vehicle (excluding con...</td>\n",
       "    </tr>\n",
       "    <tr>\n",
       "      <th>2015-03-16</th>\n",
       "      <td>0.0</td>\n",
       "      <td>Military Unit/Patrol/Convoy</td>\n",
       "    </tr>\n",
       "    <tr>\n",
       "      <th>2015-06-26</th>\n",
       "      <td>0.0</td>\n",
       "      <td>Museum/Cultural Center/Cultural House</td>\n",
       "    </tr>\n",
       "  </tbody>\n",
       "</table>\n",
       "<p>1376 rows × 2 columns</p>\n",
       "</div>"
      ],
      "text/plain": [
       "            nkill                                   targsubtype1_txt\n",
       "date                                                                \n",
       "2017-11-24  311.0                                   Place of Worship\n",
       "2015-10-31  224.0                       Aircraft (not at an airport)\n",
       "2017-07-07   65.0      Military Barracks/Base/Headquarters/Checkpost\n",
       "2014-10-24   34.0                                Military Checkpoint\n",
       "2016-01-14   34.0                                Military Checkpoint\n",
       "...           ...                                                ...\n",
       "2015-04-14    0.0    Police Building (headquarters, station, school)\n",
       "2015-04-08    0.0                                        Electricity\n",
       "2015-04-16    0.0  Military Transportation/Vehicle (excluding con...\n",
       "2015-03-16    0.0                        Military Unit/Patrol/Convoy\n",
       "2015-06-26    0.0              Museum/Cultural Center/Cultural House\n",
       "\n",
       "[1376 rows x 2 columns]"
      ]
     },
     "execution_count": 45,
     "metadata": {},
     "output_type": "execute_result"
    }
   ],
   "source": [
    "data.loc[data.iyear>=2014].sort_values(by='nkill',ascending=False)[['nkill','targsubtype1_txt']]"
   ]
  },
  {
   "cell_type": "code",
   "execution_count": 46,
   "id": "47ec7b90",
   "metadata": {},
   "outputs": [],
   "source": [
    "#Indeed, the Russian aircraft bombing or the mosque of 24th november 2017 were particularly deadly, way above the mean"
   ]
  },
  {
   "cell_type": "code",
   "execution_count": 47,
   "id": "7d6eb0cb",
   "metadata": {},
   "outputs": [],
   "source": [
    "#We can now wonder what types of attack are the deadliest"
   ]
  },
  {
   "cell_type": "code",
   "execution_count": 48,
   "id": "708bc972",
   "metadata": {},
   "outputs": [
    {
     "data": {
      "image/png": "[encoded data removed]",
      "text/plain": [
       "<Figure size 432x288 with 1 Axes>"
      ]
     },
     "metadata": {
      "needs_background": "light"
     },
     "output_type": "display_data"
    }
   ],
   "source": [
    "data[['weaptype1_txt','nkill']].groupby('weaptype1_txt').agg(np.mean).plot(kind='bar',color='red')\n",
    "plt.title(\"Average number of Casualties by Weapon Type\")\n",
    "plt.xlabel('Weapon Type')\n",
    "plt.ylabel('Avg Casualties')\n",
    "plt.show()"
   ]
  },
  {
   "cell_type": "code",
   "execution_count": 49,
   "id": "02b3b3ec",
   "metadata": {},
   "outputs": [],
   "source": [
    "#Unknown is just as deadly as explosives. Therefore the data quality prevents us from providing insights about this issue"
   ]
  },
  {
   "cell_type": "markdown",
   "id": "7ea4afbd",
   "metadata": {},
   "source": [
    "Are some province states more targeted than others?"
   ]
  },
  {
   "cell_type": "code",
   "execution_count": 50,
   "id": "b955ae21",
   "metadata": {},
   "outputs": [
    {
     "data": {
      "image/png": "[encoded data removed]",
      "text/plain": [
       "<Figure size 720x360 with 1 Axes>"
      ]
     },
     "metadata": {
      "needs_background": "light"
     },
     "output_type": "display_data"
    },
    {
     "data": {
      "image/png": "[encoded data removed]",
      "text/plain": [
       "<Figure size 720x360 with 1 Axes>"
      ]
     },
     "metadata": {
      "needs_background": "light"
     },
     "output_type": "display_data"
    }
   ],
   "source": [
    "plt.figure(figsize=(10,5))\n",
    "plt.title('Number of Attacks per Region 1970 - 2017')\n",
    "plt.ylabel('Number of Attacks')\n",
    "data.provstate.value_counts().head(10).plot(kind='bar')\n",
    "plt.show()\n",
    "\n",
    "plt.figure(figsize=(10,5))\n",
    "plt.title('Number of Attacks per City 1970 - 2017')\n",
    "plt.ylabel('Number of Attacks')\n",
    "data.city.value_counts().head(10).plot(kind='bar',color='purple')\n",
    "plt.show()"
   ]
  },
  {
   "cell_type": "code",
   "execution_count": 51,
   "id": "41c8b53e",
   "metadata": {},
   "outputs": [],
   "source": [
    "#We can see the number of attacks is mostly concentrated in North Sinai region. Desertic region so harder to control.\n",
    "#The city of Arish in North Sinai is more targeted than others. Cairo region is less targeted than Sinai, but if we focus\n",
    "#on Cairo city itself, we can deem the city as dangerous.\n",
    "#There is still a high amount of unknown cities"
   ]
  },
  {
   "cell_type": "code",
   "execution_count": 52,
   "id": "40da734d",
   "metadata": {},
   "outputs": [
    {
     "data": {
      "text/plain": [
       "North Sinai    86\n",
       "Al Sharqia     20\n",
       "Unknown        13\n",
       "Faiyum          9\n",
       "Giza            6\n",
       "Name: provstate, dtype: int64"
      ]
     },
     "execution_count": 52,
     "metadata": {},
     "output_type": "execute_result"
    }
   ],
   "source": [
    "data.loc[data.city=='Unknown']['provstate'].value_counts().head(5)"
   ]
  },
  {
   "cell_type": "code",
   "execution_count": 53,
   "id": "526ff89a",
   "metadata": {},
   "outputs": [],
   "source": [
    "#Still, we see that if we zero in on Unknown cities, the majority of them happens to be in the North Sinai region. \n",
    "#Cairo dangerousness is not underrated"
   ]
  },
  {
   "cell_type": "markdown",
   "id": "cc72c8df",
   "metadata": {},
   "source": [
    "In terms of casualties, which regions have been the deadliest?"
   ]
  },
  {
   "cell_type": "code",
   "execution_count": 55,
   "id": "fd50828f",
   "metadata": {},
   "outputs": [
    {
     "data": {
      "text/html": [
       "<div>\n",
       "<style scoped>\n",
       "    .dataframe tbody tr th:only-of-type {\n",
       "        vertical-align: middle;\n",
       "    }\n",
       "\n",
       "    .dataframe tbody tr th {\n",
       "        vertical-align: top;\n",
       "    }\n",
       "\n",
       "    .dataframe thead th {\n",
       "        text-align: right;\n",
       "    }\n",
       "</style>\n",
       "<table border=\"1\" class=\"dataframe\">\n",
       "  <thead>\n",
       "    <tr style=\"text-align: right;\">\n",
       "      <th></th>\n",
       "      <th>nkill</th>\n",
       "    </tr>\n",
       "    <tr>\n",
       "      <th>provstate</th>\n",
       "      <th></th>\n",
       "    </tr>\n",
       "  </thead>\n",
       "  <tbody>\n",
       "    <tr>\n",
       "      <th>North Sinai</th>\n",
       "      <td>2292.0</td>\n",
       "    </tr>\n",
       "    <tr>\n",
       "      <th>Minya</th>\n",
       "      <td>311.0</td>\n",
       "    </tr>\n",
       "    <tr>\n",
       "      <th>Cairo</th>\n",
       "      <td>201.0</td>\n",
       "    </tr>\n",
       "    <tr>\n",
       "      <th>Asyut</th>\n",
       "      <td>195.0</td>\n",
       "    </tr>\n",
       "    <tr>\n",
       "      <th>South Sinai</th>\n",
       "      <td>169.0</td>\n",
       "    </tr>\n",
       "    <tr>\n",
       "      <th>Giza</th>\n",
       "      <td>98.0</td>\n",
       "    </tr>\n",
       "    <tr>\n",
       "      <th>Luxor</th>\n",
       "      <td>68.0</td>\n",
       "    </tr>\n",
       "    <tr>\n",
       "      <th>Alexandria</th>\n",
       "      <td>52.0</td>\n",
       "    </tr>\n",
       "    <tr>\n",
       "      <th>Gharbia</th>\n",
       "      <td>51.0</td>\n",
       "    </tr>\n",
       "    <tr>\n",
       "      <th>New Valley</th>\n",
       "      <td>50.0</td>\n",
       "    </tr>\n",
       "    <tr>\n",
       "      <th>Quena</th>\n",
       "      <td>29.0</td>\n",
       "    </tr>\n",
       "    <tr>\n",
       "      <th>Ismailia</th>\n",
       "      <td>26.0</td>\n",
       "    </tr>\n",
       "    <tr>\n",
       "      <th>Al Sharqia</th>\n",
       "      <td>25.0</td>\n",
       "    </tr>\n",
       "    <tr>\n",
       "      <th>Dakahlia</th>\n",
       "      <td>25.0</td>\n",
       "    </tr>\n",
       "    <tr>\n",
       "      <th>Beni Suef</th>\n",
       "      <td>25.0</td>\n",
       "    </tr>\n",
       "    <tr>\n",
       "      <th>Faiyum</th>\n",
       "      <td>23.0</td>\n",
       "    </tr>\n",
       "    <tr>\n",
       "      <th>Aswan</th>\n",
       "      <td>19.0</td>\n",
       "    </tr>\n",
       "    <tr>\n",
       "      <th>Qalyubia</th>\n",
       "      <td>17.0</td>\n",
       "    </tr>\n",
       "    <tr>\n",
       "      <th>Sohag</th>\n",
       "      <td>16.0</td>\n",
       "    </tr>\n",
       "    <tr>\n",
       "      <th>Matruh</th>\n",
       "      <td>15.0</td>\n",
       "    </tr>\n",
       "    <tr>\n",
       "      <th>Suez</th>\n",
       "      <td>14.0</td>\n",
       "    </tr>\n",
       "    <tr>\n",
       "      <th>Unknown</th>\n",
       "      <td>14.0</td>\n",
       "    </tr>\n",
       "    <tr>\n",
       "      <th>Red Sea</th>\n",
       "      <td>11.0</td>\n",
       "    </tr>\n",
       "    <tr>\n",
       "      <th>Monufia</th>\n",
       "      <td>11.0</td>\n",
       "    </tr>\n",
       "    <tr>\n",
       "      <th>Damietta</th>\n",
       "      <td>11.0</td>\n",
       "    </tr>\n",
       "    <tr>\n",
       "      <th>Beheira</th>\n",
       "      <td>10.0</td>\n",
       "    </tr>\n",
       "    <tr>\n",
       "      <th>Shamal Sina</th>\n",
       "      <td>6.0</td>\n",
       "    </tr>\n",
       "    <tr>\n",
       "      <th>Kafr el-Sheikh</th>\n",
       "      <td>5.0</td>\n",
       "    </tr>\n",
       "    <tr>\n",
       "      <th>Port Said</th>\n",
       "      <td>3.0</td>\n",
       "    </tr>\n",
       "    <tr>\n",
       "      <th>Sinai</th>\n",
       "      <td>0.0</td>\n",
       "    </tr>\n",
       "    <tr>\n",
       "      <th>Kafr El-Sheikh</th>\n",
       "      <td>0.0</td>\n",
       "    </tr>\n",
       "  </tbody>\n",
       "</table>\n",
       "</div>"
      ],
      "text/plain": [
       "                 nkill\n",
       "provstate             \n",
       "North Sinai     2292.0\n",
       "Minya            311.0\n",
       "Cairo            201.0\n",
       "Asyut            195.0\n",
       "South Sinai      169.0\n",
       "Giza              98.0\n",
       "Luxor             68.0\n",
       "Alexandria        52.0\n",
       "Gharbia           51.0\n",
       "New Valley        50.0\n",
       "Quena             29.0\n",
       "Ismailia          26.0\n",
       "Al Sharqia        25.0\n",
       "Dakahlia          25.0\n",
       "Beni Suef         25.0\n",
       "Faiyum            23.0\n",
       "Aswan             19.0\n",
       "Qalyubia          17.0\n",
       "Sohag             16.0\n",
       "Matruh            15.0\n",
       "Suez              14.0\n",
       "Unknown           14.0\n",
       "Red Sea           11.0\n",
       "Monufia           11.0\n",
       "Damietta          11.0\n",
       "Beheira           10.0\n",
       "Shamal Sina        6.0\n",
       "Kafr el-Sheikh     5.0\n",
       "Port Said          3.0\n",
       "Sinai              0.0\n",
       "Kafr El-Sheikh     0.0"
      ]
     },
     "execution_count": 55,
     "metadata": {},
     "output_type": "execute_result"
    }
   ],
   "source": [
    "data[['provstate','nkill']].groupby('provstate').agg('sum').sort_values(by='nkill',ascending=False)\n"
   ]
  },
  {
   "cell_type": "code",
   "execution_count": null,
   "id": "770a7a10",
   "metadata": {},
   "outputs": [],
   "source": []
  }
 ],
 "metadata": {
  "kernelspec": {
   "display_name": "Python 3",
   "language": "python",
   "name": "python3"
  },
  "language_info": {
   "codemirror_mode": {
    "name": "ipython",
    "version": 3
   },
   "file_extension": ".py",
   "mimetype": "text/x-python",
   "name": "python",
   "nbconvert_exporter": "python",
   "pygments_lexer": "ipython3",
   "version": "3.8.8"
  }
 },
 "nbformat": 4,
 "nbformat_minor": 5
}
